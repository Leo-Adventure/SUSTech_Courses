{
 "cells": [
  {
   "cell_type": "markdown",
   "id": "957594d9",
   "metadata": {
    "pycharm": {
     "name": "#%% md\n"
    }
   },
   "source": [
    "# Lab 11: Artificial Neural Network\n",
    "In this lab, you need to implement a 4-layer artificial neural network and test your model on the MNIST dataset."
   ]
  },
  {
   "cell_type": "markdown",
   "id": "2920bad6",
   "metadata": {
    "pycharm": {
     "name": "#%% md\n"
    }
   },
   "source": [
    "### Part 1: Artificial Neural Network\n",
    "Artificial Neural Network (ANN) consists of multiple artificial neurons, usually having the structure of an input layer, multiple hidden layer, an output layer. **Layers** in the artificial neural network consist of **neurons**.\n",
    "\n",
    "Suppose that we have a N-layer ($N\\geq2$) ANN. The first layer is the input layer. The last layer is the output layer. For $n$-th layer ($n\\geq2$) with $d_n$ nodes, given the input from the last layer $x^{(n-1)}_i$ with $d_{n-1}$ nodes, the output of this layer is:\n",
    "$$x^{(n)}_i=g(a^{n})=g(w^{(n)}x^{(n-1)}+b^{(n)}),$$\n",
    "where $g$ is the activation function, $w^{n}$ is the weights from layer $n-1$ to layer $n$ with a size of $(d_n*d_{n-1})$, and $b^{(n)}$ is the bias.\n",
    "\n",
    "For example, in a 4-layer ANN, the output of each layer is processing in this way:\n",
    "$$\\mathbf{x} = \\mathbf{x}^{(1)} \\rightarrow \\mathbf{x}^{(2)} \\rightarrow \\mathbf{x}^{(3)}\\rightarrow \\mathbf{x}^{(4)} = \\hat{y}$$\n",
    "\n",
    "<hr>\n",
    "\n",
    "Given a train dataset $\\mathbb{D}_{train}=\\{(\\mathbf{x}_i, y_i)|i \\in [1,m], \\mathbf{x}_i \\in \\mathbb{R}^d, y_i \\in \\{1, 2, ..., K\\}\\}$. The cross-entropy loss function is:\n",
    "$$Loss=\\frac{1}{m}\\sum_{i=1}^{m}\\sum_{k=1}^{K}-t_i^k log \\hat{y}^k_i + \\frac{\\lambda}{2}||W||^2_2,$$\n",
    "where $-t_i^k$ is the $k$-th value of the one-hot vector of $y_i$, $\\hat{y}^k_i$ is the $k$-th value of the output from the ANN, and $\\lambda$ is the weight of the regularization term.\n",
    "\n",
    "To minimize the loss function, we will conduct batch gradient descent algorithm. For the $n$-th layer ($n\\geq2$) in a $N$-layer ($N\\geq2$) ANN, the gradient of the loss function on weight matrix $w^{(n)}$ is:\n",
    "$$\\frac{\\partial Loss}{w^{(n)}} = \\frac{\\partial Loss}{\\partial x^{(N)}}\\frac{\\partial x^{(N)}}{\\partial x^{(N-1)}}...\\frac{\\partial x^{(n+1)}}{\\partial x^{(n)}}\\frac{\\partial x^{(n)}}{\\partial w^{(n)}}.$$\n",
    "\n",
    "<hr>\n",
    "\n",
    "In this work, we will use relu activation function in hidden layers and the softmax function in the output layer.\n",
    "* The gradient on weigths of the output layer is: (derivation process can be found in <https://deepnotes.io/softmax-crossentropy>)\n",
    "$$\\frac{\\partial Loss}{w^{(N)}} = \\frac{\\partial Loss}{\\partial a^{(N)}}\\frac{\\partial (a^{N})}{\\partial w^{(N)}}= \\frac{1}{m}\\sum_{i=1}^{m}(x^{(N-1)}_i)^T*(\\hat{y}_i-y_i)$$\n",
    "let $\\delta_N=\\frac{\\partial Loss}{\\partial a^{(N)}}=(\\hat{y}_i-y_i)$, then \n",
    "$$\\frac{\\partial Loss}{w^{(N)}} = \\frac{1}{m}\\sum_{i=1}^{m}\\delta_N(x^{(N-1)}_i)^T+\\lambda w^{(N)}$$\n",
    "$$\\frac{\\partial Loss}{\\partial b^{(N)}}= \\frac{1}{m}\\sum_{i=1}^{m}\\delta_N$$\n",
    "\n",
    "* For the penultimate layer $N-1$ (derivation process can be found in <https://sudeepraja.github.io/Neural/>):\n",
    "$$\\frac{\\partial Loss}{w^{(N-1)}} = \\frac{\\partial Loss}{\\partial a^{(N-1)}}\\frac{\\partial a^{(N-1)}}{\\partial w^{(N-1)}} = \\frac{1}{m}\\sum_{i=1}^{m}(x^{(N-2)}_i)^T\\delta_{N-1},$$\n",
    "$$\\frac{\\partial Loss}{\\partial b^{(N-1)}}= \\frac{1}{m}\\sum_{i=1}^{m}\\delta_{N-1}$$\n",
    "where$$\\delta_{N-1}=\\frac{\\partial Loss}{\\partial a^{(N-1)}}=\\delta_{N}(w^{(N)})^T\\circ\\frac{\\partial g(a^{(N-1)})}{a^{(N-1)}}$$\n",
    "\n",
    "* So, for the $n$-th layer ($2\\leq n\\leq N-1$):\n",
    "$$\\frac{\\partial Loss}{w^{(n)}} = \\frac{\\partial Loss}{\\partial a^{(n)}}\\frac{\\partial a^{(n)}}{\\partial w^{(n)}} = \\frac{1}{m}\\sum_{i=1}^{m}(x^{(n-1)}_i)^T\\delta_{n}+ \\lambda w^{(n)},$$\n",
    "$$\\frac{\\partial Loss}{\\partial b^{(n)}}= \\frac{1}{m}\\sum_{i=1}^{m}\\delta_{n}$$\n",
    "where$$\\delta_{n}=\\frac{\\partial Loss}{\\partial a^{(n)}}=\\delta_{n+1}(w^{(n+1)})^T\\circ\\frac{\\partial g(a^{(n)})}{a^{(n)}}.$$\n",
    "\n",
    "<hr>\n",
    "\n",
    "Based on above derivations, you need to complete the missing code in the following."
   ]
  },
  {
   "cell_type": "markdown",
   "id": "2679afb9",
   "metadata": {
    "pycharm": {
     "name": "#%% md\n"
    }
   },
   "source": [
    "### Part 2: Design a ANN for MNIST dataset\n",
    "\n",
    "MNIST stand for Mixed National Institute of Standards and Technology, whch has produced a handwritten digits dataset. This dataset is one of the most popular datasets in machine learning. \n",
    "\n",
    "The overall all dataset contains 60000 training images and 10000 testing images with 10 classes from 0 to 9, formmatted as $28*28$ pixel monochrome images.\n",
    "\n",
    "![MNIST](./MNIST.png)\n",
    "\n",
    "The mnist is already downloaded in the file `data.pkl`. Let's import the data and standarize it. "
   ]
  },
  {
   "cell_type": "code",
   "execution_count": 2,
   "id": "2414053f",
   "metadata": {
    "pycharm": {
     "name": "#%%\n"
    }
   },
   "outputs": [
    {
     "ename": "FileNotFoundError",
     "evalue": "[Errno 2] No such file or directory: 'data.pkl'",
     "output_type": "error",
     "traceback": [
      "\u001b[1;31m---------------------------------------------------------------------------\u001b[0m",
      "\u001b[1;31mFileNotFoundError\u001b[0m                         Traceback (most recent call last)",
      "\u001b[1;32m~\\AppData\\Local\\Temp/ipykernel_5884/988263707.py\u001b[0m in \u001b[0;36m<module>\u001b[1;34m\u001b[0m\n\u001b[0;32m      2\u001b[0m \u001b[1;33m\u001b[0m\u001b[0m\n\u001b[0;32m      3\u001b[0m (train_images, train_labels, \n\u001b[1;32m----> 4\u001b[1;33m      test_images, test_labels) = pickle.load(open('data.pkl', 'rb'),encoding='latin1')\n\u001b[0m\u001b[0;32m      5\u001b[0m \u001b[1;33m\u001b[0m\u001b[0m\n\u001b[0;32m      6\u001b[0m \u001b[1;31m### normalize all pixels to [0,1) by dividing 256\u001b[0m\u001b[1;33m\u001b[0m\u001b[1;33m\u001b[0m\u001b[0m\n",
      "\u001b[1;31mFileNotFoundError\u001b[0m: [Errno 2] No such file or directory: 'data.pkl'"
     ]
    }
   ],
   "source": [
    "import pickle\n",
    "\n",
    "(train_images, train_labels, \n",
    "     test_images, test_labels) = pickle.load(open('data.pkl', 'rb'),encoding='latin1')\n",
    "\n",
    "### normalize all pixels to [0,1) by dividing 256\n",
    "train_images = train_images/256.0\n",
    "test_images = test_images/256.0\n",
    "print(type(train_images[0][0]))\n",
    "print(train_images[0].shape)\n",
    "train_labels.shape"
   ]
  },
  {
   "cell_type": "markdown",
   "id": "98b6ea0b",
   "metadata": {
    "pycharm": {
     "name": "#%% md\n"
    }
   },
   "source": [
    "Next, we need to design an ANN to conduct the classifcation task in MNIST dataset. As shown in PPT, this ANN have your layers:\n",
    "* Layer 1: input layer, size 784 = $28*28$\n",
    "* Layer 2: Hidden layer, size = 300, activation = relu\n",
    "* Layer 3: Hidden layer, size = 100, activation = relu\n",
    "* Layer 4: Output layer , size = 10, activation = softmax\n",
    "![ANN](./ANN.png)\n",
    "You need to complete the following parts:\n",
    "1. Initialize the all parameters in ANN\n",
    "2. Complete the forward process of hidden layer\n",
    "3. Complete the forward process of output layer\n",
    "4. Complete the loss calculation function\n",
    "5. Calculate the gradient on these layers"
   ]
  },
  {
   "cell_type": "code",
   "execution_count": null,
   "id": "1a3790a5",
   "metadata": {
    "pycharm": {
     "name": "#%%\n"
    }
   },
   "outputs": [
    {
     "ename": "AssertionError",
     "evalue": "",
     "output_type": "error",
     "traceback": [
      "\u001b[1;31m---------------------------------------------------------------------------\u001b[0m",
      "\u001b[1;31mAssertionError\u001b[0m                            Traceback (most recent call last)",
      "Input \u001b[1;32mIn [19]\u001b[0m, in \u001b[0;36m<cell line: 51>\u001b[1;34m()\u001b[0m\n\u001b[0;32m     49\u001b[0m xavier(\u001b[38;5;241m3\u001b[39m,\u001b[38;5;241m4\u001b[39m) \u001b[38;5;66;03m# w\u001b[39;00m\n\u001b[0;32m     50\u001b[0m xavier(\u001b[38;5;241m3\u001b[39m,\u001b[38;5;241m1\u001b[39m) \u001b[38;5;66;03m# b. 姑且让shape对就行。 稍后研究有没有道理。\u001b[39;00m\n\u001b[1;32m---> 51\u001b[0m \u001b[38;5;28;01massert\u001b[39;00m (softmax(np\u001b[38;5;241m.\u001b[39marray([[\u001b[38;5;241m1\u001b[39m,\u001b[38;5;241m2\u001b[39m,\u001b[38;5;241m-\u001b[39m\u001b[38;5;241m3\u001b[39m], [\u001b[38;5;241m8\u001b[39m,\u001b[38;5;241m-\u001b[39m\u001b[38;5;241m6\u001b[39m,\u001b[38;5;241m10\u001b[39m]])) \u001b[38;5;241m==\u001b[39m softmax(np\u001b[38;5;241m.\u001b[39marray([[\u001b[38;5;241m1\u001b[39m,\u001b[38;5;241m2\u001b[39m,\u001b[38;5;241m0\u001b[39m], [\u001b[38;5;241m8\u001b[39m,\u001b[38;5;241m0\u001b[39m,\u001b[38;5;241m10\u001b[39m]])))\u001b[38;5;241m.\u001b[39mall()\n",
      "\u001b[1;31mAssertionError\u001b[0m: "
     ]
    }
   ],
   "source": [
    "import numpy as np\n",
    "import matplotlib.pyplot as plt\n",
    "\n",
    "def xavier(n1, n2):\n",
    "    \"\"\"\n",
    "    Initialize a matrix with a shape of (n1, n2)\n",
    "    \n",
    "    :param n1: int, number of rows of the matrix\n",
    "    :param n2: int, number of columns of the matrix\n",
    "    \n",
    "    :return:\n",
    "        ndarray: numpy.ndarray, a random matrix generated by the uniform distribution.\n",
    "    \"\"\"\n",
    "    # https://www.cnblogs.com/wyshen/p/13399578.html 激活函数的饱和现象\n",
    "    # https://zhuanlan.zhihu.com/p/68487857 梯度消失、爆炸。\n",
    "    x = np.sqrt(6*1.0/(n1 + n2))\n",
    "    ndarray = np.random.uniform(low=-x, high=x, size=(n1, n2))\n",
    "    \n",
    "    return ndarray\n",
    "\n",
    "def softmax(ndarray):\n",
    "    \"\"\"\n",
    "    Softmax function for input with a shape of (batch_size, n_classes)\n",
    "    \n",
    "    :param ndarray: numpy.ndarray, the output of the last layer in ANN with a shape of (batch_size, n_classes)\n",
    "    \n",
    "    :return:\n",
    "        numpy.ndarray, the softmax output with a shape of (batch_size, n_classes)\n",
    "    \"\"\"\n",
    "    r = ndarray.shape[0]\n",
    "    c = ndarray.shape[1]\n",
    "    max_arr = np.tile(ndarray.max(axis=1).reshape(r,1), (1,c))  # 不知道啥玩意\n",
    "    e_x = np.exp(ndarray - max_arr)\n",
    "    return e_x / np.tile(e_x.sum(axis=1).reshape(r,1), (1,c))\n",
    "\n",
    "def relu(ndarray):\n",
    "    return np.maximum(ndarray, 0)\n",
    "\n",
    "def d_relu(ndarray):\n",
    "    ndarray[ndarray>0] = 1\n",
    "    return ndarray\n",
    "\n",
    "def getLabel(ndarray,BATCHSIZE,num_output):\n",
    "    label = np.zeros((BATCHSIZE, num_output))\n",
    "    for i in range(0, BATCHSIZE):\n",
    "        idx = ndarray[i]\n",
    "        label[i][idx] = 1\n",
    "    return label\n",
    "xavier(3,4) \n",
    "xavier(3,1)\n",
    "# assert (softmax(np.array([[1,2,-3], [8,-6,10]])) == softmax(np.array([[1,2,0], [8,0,10]]))).all( ) # 稍后研究"
   ]
  },
  {
   "cell_type": "code",
   "execution_count": null,
   "id": "833a5e46",
   "metadata": {
    "pycharm": {
     "name": "#%%\n"
    }
   },
   "outputs": [
    {
     "data": {
      "text/plain": [
       "array([11., 11., 11., 11., 11., 11., 11., 11., 11., 11.])"
      ]
     },
     "execution_count": 27,
     "metadata": {},
     "output_type": "execute_result"
    }
   ],
   "source": [
    "def Parameter_initialization(input_size, hidden1_size, hidden2_size, output_size):\n",
    "    \"\"\"\n",
    "    Parameter initialization function for our ANN.\n",
    "    \n",
    "    :param input_size: int\n",
    "    :param hidden1_size: int\n",
    "    :param hidden2_size: int\n",
    "    :param output_size: int\n",
    "    \n",
    "    :return:\n",
    "        Parameter: dict, a dictionary to store the parameters in ANN.\n",
    "    \"\"\"\n",
    "    # TODO 1:\n",
    "    # Please Initialize all parameters used in ANN-Hidden Layers with Xavier\n",
    "    Parameter={}\n",
    "    #Your code starts here\n",
    "    # w2 = xavier(hidden1_size, input_size)\n",
    "    # b2 = xavier(hidden1_size, 1)\n",
    "    # w3 = xavier(hidden2_size, hidden1_size)\n",
    "    # b3 = xavier(hidden2_size, 1)\n",
    "    # w4 = xavier(output_size, hidden2_size)\n",
    "    # b4 = xavier(output_size, 1)\n",
    "\n",
    "    w2 = xavier(input_size, hidden1_size)\n",
    "    b2 = xavier(1, hidden1_size)\n",
    "    w3 = xavier(hidden1_size, hidden2_size)\n",
    "    b3 = xavier(1, hidden2_size)\n",
    "    w4 = xavier(hidden2_size, output_size)\n",
    "    b4 = xavier(1, output_size)\n",
    "    #Your code ends here\n",
    "    \n",
    "    Parameter['w2']=w2\n",
    "    Parameter['b2']=b2\n",
    "\n",
    "    Parameter['w3']=w3\n",
    "    Parameter['b3']=b3\n",
    "    \n",
    "    Parameter['w4']=w4\n",
    "    Parameter['b4']=b4\n",
    "    \n",
    "    return Parameter\n",
    "\n",
    "def Hidden_Layer(x, w, b):\n",
    "    \"\"\"\n",
    "    Return the output of the hidden layer.\n",
    "\n",
    "    :param x: numpy.ndarray with a shape of (n, input_dim), input data of this layer.\n",
    "    :param w: numpy.ndarray, weights of this layer.\n",
    "    :param b: numpy.ndarray, bias of this layer.\n",
    "    \n",
    "    :return:\n",
    "        z: numpy.ndarray with a shape of (n, output_dim), output data of this layer\n",
    "    \"\"\"        \n",
    "    # TODO 2: generate the outputs of this layer\n",
    "    # Your code starts here\n",
    "    z = relu(x@w+b)  # b是 1 x o 广播机制。  w是 i x o\n",
    "    # Your code ends here\n",
    "\n",
    "    return z\n",
    "\n",
    "def Output_Layer(x, w, b):\n",
    "    \"\"\"\n",
    "    Return the output of the output layer.\n",
    "\n",
    "    :param x: numpy.ndarray with a shape of (n, input_dim), input data of this layer.\n",
    "    :param w: numpy.ndarray, weights of this layer.\n",
    "    :param b: numpy.ndarray, bias of this layer.\n",
    "    \n",
    "    :return:\n",
    "        z: numpy.ndarray with a shape of (n, num_classes), output of the output layer\n",
    "    \"\"\"        \n",
    "    # TODO 3: generate the outputs of this layer\n",
    "    # Your code starts here\n",
    "    z = softmax(x@w+b) #\n",
    "    # Your code ends here\n",
    "\n",
    "    return z\n",
    "\n",
    "def Loss(label, output):\n",
    "    \"\"\"\n",
    "    Return the loss of ANN.\n",
    "\n",
    "    :param label: numpy.ndarray with a shape of (n, num_classes), true labels (each line is a one-hot vector)\n",
    "    :param output: numpy.ndarray with a shape of (n, num_classes), predicted results of your model\n",
    "    \n",
    "    :return:\n",
    "        cross_entropy_loss: float, \n",
    "    \"\"\"\n",
    "    # TODO 4: calculate the loss of the output\n",
    "    # Your code starts here\n",
    "    cross_entropy_loss = (label*np.log(output)).sum() # 才不求mean呢\n",
    "    cross_entropy_loss /= label.shape[0]  # 还是求一下咯\n",
    "    # Your code ends here\n",
    "    \n",
    "    return cross_entropy_loss\n",
    "\n",
    "def BP_output(predict, label, w, x, lam):\n",
    "    \"\"\"\n",
    "    Return the gradients of loss on the weight of output layer, and the delta_N\n",
    "    \n",
    "    :param predict: numpy.ndarray with a shape of (n, num_classes), predicted results of your model\n",
    "    :param label: numpy.ndarray with a shape of (n, num_classes), true labels (each line is a one-hot vector)\n",
    "    :param w: weight matrix from hidden layer 2 to output layer\n",
    "    :param x: input of the output layer 前面一层的x， 不是第四层的x，是x3\n",
    "    :param lam: the weight of the regularization term\n",
    "    \n",
    "    :return:\n",
    "        grad_w: gradient of loss on the weight of output layer 不做转置？\n",
    "        grad_b: gradient of loss on the bias of output layer\n",
    "        delta_N: partial loss / partial a_N\n",
    "    \"\"\"\n",
    "    # TODO 5: calculate the gradients of loss on the weight of output layer\n",
    "    n = predict.shape[0]\n",
    "    delta_N = predict-label\n",
    "    grad_w = (delta_N.T @ x.T/n).T  + lam*w  #直接线性组合\n",
    "    grad_b = delta_N.mean(axis = 0)\n",
    "\n",
    "    return  grad_w, grad_b, delta_N\n",
    "\n",
    "def BP_hidden(delta_n_1, w_n_1, w_n, b_n, x, lam):\n",
    "    \"\"\"\n",
    "    Return the gradients of loss on the weight of layer n and the delta_n.\n",
    "    \n",
    "    :param delta_n_1: numpy.ndarray with a shape of (n, size_layer(n+1)), delta of the layer n+1\n",
    "    :param w_n_1: weight matrix of layer n+1 with a shape of (size_layer(n), size_layer(n+1))\n",
    "    :param w_n: weight matrix of layer n with a shape of (size_layer(n-1), size_layer(n))\n",
    "    :param b_n: bias of layer n with a shape of (1, size_layer(n))\n",
    "    :param x: input of layer n with a shape of (n, size_layer(n-1))\n",
    "    :param lam: the weight of the regularization term\n",
    "    \n",
    "    :return:\n",
    "        grad_w: gradient of loss on the weight of current hidden layer n\n",
    "        grad_b: gradient of loss on the bias of current hidden layer n\n",
    "        delta_n: partial loss / partial a_n\n",
    "    \"\"\"\n",
    "    # TODO 6: calculate the gradients of loss on the weight of output layer\n",
    "    n = delta_n_1.shape[0]\n",
    "    a_n = Hidden_Layer(x, w_n, b_n)\n",
    "    delta_n = (delta_n_1 @ w_n_1.T) * d_relu(a_n)\n",
    "    grad_w = (x.T@ delta_n/n) + lam*w_n\n",
    "    grad_b = delta_n.mean(axis = 0)\n",
    "    return  grad_w, grad_b, delta_n\n",
    "# Parameter_initialization(784, 300, 100, 10)\n",
    "Hidden_Layer(np.ones(10), np.ones((10, 10)), np.ones(10))"
   ]
  },
  {
   "cell_type": "markdown",
   "id": "50417942",
   "metadata": {
    "pycharm": {
     "name": "#%% md\n"
    }
   },
   "source": [
    "After finishing the ANN codes, let's test it on the MNIST dataset."
   ]
  },
  {
   "cell_type": "code",
   "execution_count": null,
   "id": "6c95ffbb",
   "metadata": {
    "pycharm": {
     "name": "#%%\n"
    }
   },
   "outputs": [],
   "source": [
    "# 1. Hyper parameters\n",
    "EPOCH = 100\n",
    "ITERS = 100\n",
    "BATCHSIZE = 100\n",
    "LR_BASE = 0.1\n",
    "lam = 0.0005  # lambda\n",
    "num_input = 784\n",
    "num_layer1 = 300\n",
    "num_layer2 = 100\n",
    "num_output = 10"
   ]
  },
  {
   "cell_type": "code",
   "execution_count": null,
   "id": "2860b8e6",
   "metadata": {
    "pycharm": {
     "name": "#%%\n"
    },
    "scrolled": false
   },
   "outputs": [
    {
     "name": "stdout",
     "output_type": "stream",
     "text": [
      "Epoch 1: \n",
      "-0.3247158984585802\n",
      "Accuracy: \n",
      "0.855\n",
      "Epoch 2: \n",
      "-0.23290094463504576\n",
      "Accuracy: \n",
      "0.89\n",
      "Epoch 3: \n",
      "-0.1983711735365558\n",
      "Accuracy: \n",
      "0.898\n",
      "Epoch 4: \n",
      "-0.17627056385781403\n",
      "Accuracy: \n",
      "0.903\n",
      "Epoch 5: \n",
      "-0.15788376679471652\n",
      "Accuracy: \n",
      "0.908\n",
      "Epoch 6: \n",
      "-0.14251010279479936\n",
      "Accuracy: \n",
      "0.912\n",
      "Epoch 7: \n",
      "-0.12893969267959407\n",
      "Accuracy: \n",
      "0.918\n",
      "Epoch 8: \n",
      "-0.11653094237612127\n",
      "Accuracy: \n",
      "0.92\n",
      "Epoch 9: \n",
      "-0.10474619795126724\n",
      "Accuracy: \n",
      "0.92\n",
      "Epoch 10: \n",
      "-0.09436100613853532\n",
      "Accuracy: \n",
      "0.922\n",
      "Epoch 11: \n",
      "-0.08380340403102365\n",
      "Accuracy: \n",
      "0.923\n",
      "Epoch 12: \n",
      "-0.07563244144575976\n",
      "Accuracy: \n",
      "0.924\n",
      "Epoch 13: \n",
      "-0.06839441687844684\n",
      "Accuracy: \n",
      "0.926\n",
      "Epoch 14: \n",
      "-0.06225982343253774\n",
      "Accuracy: \n",
      "0.927\n",
      "Epoch 15: \n",
      "-0.05704969805920954\n",
      "Accuracy: \n",
      "0.9299999999999999\n",
      "Epoch 16: \n",
      "-0.05164675475620152\n",
      "Accuracy: \n",
      "0.931\n",
      "Epoch 17: \n",
      "-0.04811549613762305\n",
      "Accuracy: \n",
      "0.933\n",
      "Epoch 18: \n",
      "-0.044475082062170636\n",
      "Accuracy: \n",
      "0.9339999999999999\n",
      "Epoch 19: \n",
      "-0.04160160816030701\n",
      "Accuracy: \n",
      "0.9359999999999999\n",
      "Epoch 20: \n",
      "-0.03876770693200134\n",
      "Accuracy: \n",
      "0.938\n",
      "Epoch 21: \n",
      "-0.036864009715075745\n",
      "Accuracy: \n",
      "0.938\n",
      "Epoch 22: \n",
      "-0.034576702640710645\n",
      "Accuracy: \n",
      "0.94\n",
      "Epoch 23: \n",
      "-0.03263803896050108\n",
      "Accuracy: \n",
      "0.94\n",
      "Epoch 24: \n",
      "-0.03065419421432817\n",
      "Accuracy: \n",
      "0.9410000000000001\n",
      "Epoch 25: \n",
      "-0.0289721473897265\n",
      "Accuracy: \n",
      "0.94\n",
      "Epoch 26: \n",
      "-0.027429550810043488\n",
      "Accuracy: \n",
      "0.94\n",
      "Epoch 27: \n",
      "-0.02588780165604084\n",
      "Accuracy: \n",
      "0.9410000000000001\n",
      "Epoch 28: \n",
      "-0.02447436554504165\n",
      "Accuracy: \n",
      "0.9410000000000001\n",
      "Epoch 29: \n",
      "-0.02328241982670485\n",
      "Accuracy: \n",
      "0.943\n",
      "Epoch 30: \n",
      "-0.021846962306147383\n",
      "Accuracy: \n",
      "0.943\n",
      "Epoch 31: \n",
      "-0.020741463350468007\n",
      "Accuracy: \n",
      "0.943\n",
      "Epoch 32: \n",
      "-0.019562156929005807\n",
      "Accuracy: \n",
      "0.946\n",
      "Epoch 33: \n",
      "-0.018734400202599474\n",
      "Accuracy: \n",
      "0.946\n",
      "Epoch 34: \n",
      "-0.017624086582463415\n",
      "Accuracy: \n",
      "0.947\n",
      "Epoch 35: \n",
      "-0.017041450966996607\n",
      "Accuracy: \n",
      "0.948\n",
      "Epoch 36: \n",
      "-0.01608800909294998\n",
      "Accuracy: \n",
      "0.948\n",
      "Epoch 37: \n",
      "-0.015516226811614433\n",
      "Accuracy: \n",
      "0.948\n",
      "Epoch 38: \n",
      "-0.014844813766259055\n",
      "Accuracy: \n",
      "0.948\n",
      "Epoch 39: \n",
      "-0.014388271553588324\n",
      "Accuracy: \n",
      "0.948\n",
      "Epoch 40: \n",
      "-0.013868479822330282\n",
      "Accuracy: \n",
      "0.949\n",
      "Epoch 41: \n",
      "-0.013316751643188107\n",
      "Accuracy: \n",
      "0.949\n",
      "Epoch 42: \n",
      "-0.013048870105956704\n",
      "Accuracy: \n",
      "0.95\n",
      "Epoch 43: \n",
      "-0.012613984792529556\n",
      "Accuracy: \n",
      "0.95\n",
      "Epoch 44: \n",
      "-0.012152906546229154\n",
      "Accuracy: \n",
      "0.949\n",
      "Epoch 45: \n",
      "-0.01188876364153974\n",
      "Accuracy: \n",
      "0.949\n",
      "Epoch 46: \n",
      "-0.011449477905061744\n",
      "Accuracy: \n",
      "0.949\n",
      "Epoch 47: \n",
      "-0.011323366549182822\n",
      "Accuracy: \n",
      "0.949\n",
      "Epoch 48: \n",
      "-0.010927944620842567\n",
      "Accuracy: \n",
      "0.949\n",
      "Epoch 49: \n",
      "-0.010723473178471592\n",
      "Accuracy: \n",
      "0.949\n",
      "Epoch 50: \n",
      "-0.010465755417898168\n",
      "Accuracy: \n",
      "0.949\n",
      "Epoch 51: \n",
      "-0.010230834143027523\n",
      "Accuracy: \n",
      "0.949\n",
      "Epoch 52: \n",
      "-0.011066875075468113\n",
      "Accuracy: \n",
      "0.949\n",
      "Epoch 53: \n",
      "-0.011385461213225603\n",
      "Accuracy: \n",
      "0.949\n",
      "Epoch 54: \n",
      "-0.011510991821680392\n",
      "Accuracy: \n",
      "0.95\n",
      "Epoch 55: \n",
      "-0.011591718158132338\n",
      "Accuracy: \n",
      "0.95\n",
      "Epoch 56: \n",
      "-0.011655716269911593\n",
      "Accuracy: \n",
      "0.95\n",
      "Epoch 57: \n",
      "-0.011697329053137123\n",
      "Accuracy: \n",
      "0.95\n",
      "Epoch 58: \n",
      "-0.011719347777274718\n",
      "Accuracy: \n",
      "0.948\n",
      "Epoch 59: \n",
      "-0.011735086271994044\n",
      "Accuracy: \n",
      "0.948\n",
      "Epoch 60: \n",
      "-0.011740168529207541\n",
      "Accuracy: \n",
      "0.948\n",
      "Epoch 61: \n",
      "-0.011721672731162279\n",
      "Accuracy: \n",
      "0.948\n",
      "Epoch 62: \n",
      "-0.011714604055688891\n",
      "Accuracy: \n",
      "0.948\n",
      "Epoch 63: \n",
      "-0.01170389968822367\n",
      "Accuracy: \n",
      "0.948\n",
      "Epoch 64: \n",
      "-0.011679234498671134\n",
      "Accuracy: \n",
      "0.948\n",
      "Epoch 65: \n",
      "-0.011651692197773324\n",
      "Accuracy: \n",
      "0.948\n",
      "Epoch 66: \n",
      "-0.011627624511706127\n",
      "Accuracy: \n",
      "0.948\n",
      "Epoch 67: \n",
      "-0.011596405373025632\n",
      "Accuracy: \n",
      "0.948\n",
      "Epoch 68: \n",
      "-0.01157029443869712\n",
      "Accuracy: \n",
      "0.948\n",
      "Epoch 69: \n",
      "-0.01153494722231612\n",
      "Accuracy: \n",
      "0.948\n",
      "Epoch 70: \n",
      "-0.01150237975039423\n",
      "Accuracy: \n",
      "0.948\n",
      "Epoch 71: \n",
      "-0.011471194920107251\n",
      "Accuracy: \n",
      "0.948\n",
      "Epoch 72: \n",
      "-0.0114421974948351\n",
      "Accuracy: \n",
      "0.948\n",
      "Epoch 73: \n",
      "-0.011404335995926494\n",
      "Accuracy: \n",
      "0.948\n",
      "Epoch 74: \n",
      "-0.011370278205053598\n",
      "Accuracy: \n",
      "0.948\n",
      "Epoch 75: \n",
      "-0.011348474097101602\n",
      "Accuracy: \n",
      "0.948\n",
      "Epoch 76: \n",
      "-0.011309876143984288\n",
      "Accuracy: \n",
      "0.948\n",
      "Epoch 77: \n",
      "-0.011275803991302841\n",
      "Accuracy: \n",
      "0.948\n",
      "Epoch 78: \n",
      "-0.011246765186790117\n",
      "Accuracy: \n",
      "0.948\n",
      "Epoch 79: \n",
      "-0.011206565108744529\n",
      "Accuracy: \n",
      "0.948\n",
      "Epoch 80: \n",
      "-0.011179209134933133\n",
      "Accuracy: \n",
      "0.948\n",
      "Epoch 81: \n",
      "-0.011140805988384897\n",
      "Accuracy: \n",
      "0.948\n",
      "Epoch 82: \n",
      "-0.011115433337239179\n",
      "Accuracy: \n",
      "0.948\n",
      "Epoch 83: \n",
      "-0.011081302581812818\n",
      "Accuracy: \n",
      "0.948\n",
      "Epoch 84: \n",
      "-0.011047407701412503\n",
      "Accuracy: \n",
      "0.948\n",
      "Epoch 85: \n",
      "-0.011018425855628271\n",
      "Accuracy: \n",
      "0.948\n",
      "Epoch 86: \n",
      "-0.01099851227716072\n",
      "Accuracy: \n",
      "0.948\n",
      "Epoch 87: \n",
      "-0.010951616481835534\n",
      "Accuracy: \n",
      "0.948\n",
      "Epoch 88: \n",
      "-0.010933820702524718\n",
      "Accuracy: \n",
      "0.948\n",
      "Epoch 89: \n",
      "-0.010907635888383536\n",
      "Accuracy: \n",
      "0.948\n",
      "Epoch 90: \n",
      "-0.010880588900427401\n",
      "Accuracy: \n",
      "0.948\n",
      "Epoch 91: \n",
      "-0.010851177098795694\n",
      "Accuracy: \n",
      "0.948\n",
      "Epoch 92: \n",
      "-0.010825328344378993\n",
      "Accuracy: \n",
      "0.948\n",
      "Epoch 93: \n",
      "-0.010796638895420955\n",
      "Accuracy: \n",
      "0.948\n",
      "Epoch 94: \n",
      "-0.010766171271642843\n",
      "Accuracy: \n",
      "0.948\n",
      "Epoch 95: \n",
      "-0.010750292944670782\n",
      "Accuracy: \n",
      "0.948\n",
      "Epoch 96: \n",
      "-0.010711141850385054\n",
      "Accuracy: \n",
      "0.948\n",
      "Epoch 97: \n",
      "-0.010696225297892947\n",
      "Accuracy: \n",
      "0.948\n",
      "Epoch 98: \n",
      "-0.010665523060595818\n",
      "Accuracy: \n",
      "0.948\n",
      "Epoch 99: \n",
      "-0.010640162923280348\n",
      "Accuracy: \n",
      "0.948\n",
      "Epoch 100: \n",
      "-0.010621109466404464\n",
      "Accuracy: \n",
      "0.948\n"
     ]
    },
    {
     "data": {
      "image/png": "[encoded data removed]",
      "text/plain": [
       "<Figure size 864x360 with 2 Axes>"
      ]
     },
     "metadata": {
      "needs_background": "light"
     },
     "output_type": "display_data"
    }
   ],
   "source": [
    "# 2. Weight initialization: Xavier\n",
    "Parameter = Parameter_initialization(num_input,num_layer1,num_layer2,num_output)\n",
    "w2, w3, w4=Parameter['w2'], Parameter['w3'], Parameter['w4']\n",
    "b2, b3, b4=Parameter['b2'], Parameter['b3'], Parameter['b4']\n",
    "\n",
    "# 3. training of neural network\n",
    "loss = np.zeros((EPOCH))   #save the loss of each epoch\n",
    "accuracy = np.zeros((EPOCH))  #save the accuracy of each epoch\n",
    "for epoch in range(0, EPOCH):\n",
    "    if epoch <= EPOCH/2:\n",
    "        lr = LR_BASE\n",
    "    else:\n",
    "        lr = LR_BASE / 10.0\n",
    "    for iters in range(0, ITERS):\n",
    "        image_blob = train_images[iters*BATCHSIZE:(iters+1)*BATCHSIZE, :] # 100*784\n",
    "        label_blob = train_labels[iters*BATCHSIZE:(iters+1)*BATCHSIZE] # 100*1\n",
    "        label = getLabel(label_blob,BATCHSIZE,num_output)\n",
    "        # Forward propagation  Hidden Layer\n",
    "        x1 = image_blob\n",
    "        x2 = Hidden_Layer(x1,w2,b2)\n",
    "        x3 = Hidden_Layer(x2,w3,b3)\n",
    "        # Forward propagation  output Layer\n",
    "        x4 = Output_Layer(x3,w4,b4)\n",
    "        y_hat = x4\n",
    "        if np.count_nonzero(y_hat) != 1000:\n",
    "            print(y_hat)\n",
    "        #comupte loss\n",
    "        loss_tmp = Loss(label,y_hat)\n",
    "\n",
    "        if iters % 100 == 99:\n",
    "            loss[epoch] = loss_tmp\n",
    "            print('Epoch '+str(epoch+1)+': ')\n",
    "            print(loss_tmp)\n",
    "        # Back propagation\n",
    "        grad_w4, grad_b4, delta_4 = BP_output(y_hat, label, w4, x3, lam) # output layer\n",
    "        grad_w3, grad_b3, delta_3 = BP_hidden(delta_4, w4, w3, b3, x2, lam) # hidden layer 2\n",
    "        grad_w2, grad_b2, delta_2 = BP_hidden(delta_3, w3, w2, b2, x1, lam) # hidden layer 1\n",
    "\n",
    "        # Gradient update\n",
    "        w2 = w2 - lr*(grad_w2)\n",
    "        w3 = w3 - lr*(grad_w3)\n",
    "        w4 = w4 - lr*(grad_w4)\n",
    "        b2 = b2 - lr*(grad_b2)\n",
    "        b3 = b3 - lr*(grad_b3)\n",
    "        b4 = b4 - lr*(grad_b4)\n",
    "\n",
    "\n",
    "        # Testing for accuracy\n",
    "        if iters % 100 == 99:\n",
    "            x1 = test_images\n",
    "            x2 = Hidden_Layer(x1,w2,b2)\n",
    "            x3 = Hidden_Layer(x2,w3,b3)\n",
    "            # Forward propagation  output Layer\n",
    "            x4 = Output_Layer(x3,w4,b4)\n",
    "            y_hat = x4\n",
    "            \n",
    "            predict = np.argmax(y_hat, axis=1)\n",
    "            print('Accuracy: ')\n",
    "            accuracy[epoch] = 1 - np.count_nonzero(predict - test_labels)*1.0/1000\n",
    "            print(accuracy[epoch])\n",
    "\n",
    "### 4. Plot\n",
    "plt.figure(figsize=(12,5))\n",
    "ax1 = plt.subplot(121)\n",
    "ax1.plot(np.arange(EPOCH)+1, loss[0:], 'r', label='Loss', linewidth=2)\n",
    "plt.xlabel('Epoch', fontsize=16)\n",
    "plt.ylabel('Loss on trainSet', fontsize=16)\n",
    "plt.grid()\n",
    "ax2 = plt.subplot(122)\n",
    "ax2.plot(np.arange(EPOCH)+1, accuracy[0:], 'b', label='Accuracy', linewidth=2)\n",
    "plt.xlabel('Epoch', fontsize=16)\n",
    "plt.ylabel('Accuracy on trainSet', fontsize=16)\n",
    "plt.grid()\n",
    "plt.tight_layout()\n",
    "plt.savefig('figure.pdf')\n",
    "plt.show()"
   ]
  },
  {
   "cell_type": "code",
   "execution_count": null,
   "id": "01300df7",
   "metadata": {
    "pycharm": {
     "name": "#%%\n"
    }
   },
   "outputs": [
    {
     "data": {
      "text/plain": [
       "(1000, 784)"
      ]
     },
     "execution_count": 31,
     "metadata": {},
     "output_type": "execute_result"
    }
   ],
   "source": [
    "# 测试集\n",
    "test_images.shape"
   ]
  },
  {
   "cell_type": "code",
   "execution_count": null,
   "id": "73dc2cbb",
   "metadata": {
    "pycharm": {
     "name": "#%%\n"
    }
   },
   "outputs": [],
   "source": [
    "x1 = test_images\n",
    "x2 = Hidden_Layer(x1,w2,b2)\n",
    "x3 = Hidden_Layer(x2,w3,b3)\n",
    "# Forward propagation  output Layer\n",
    "x4 = Output_Layer(x3,w4,b4)\n",
    "y_hat = x4\n",
    "\n",
    "predict = np.argmax(y_hat, axis=1)"
   ]
  },
  {
   "cell_type": "code",
   "execution_count": null,
   "id": "d477f10d",
   "metadata": {
    "pycharm": {
     "name": "#%%\n"
    }
   },
   "outputs": [
    {
     "data": {
      "text/plain": [
       "(1000,)"
      ]
     },
     "execution_count": 34,
     "metadata": {},
     "output_type": "execute_result"
    }
   ],
   "source": [
    "predict.shape"
   ]
  },
  {
   "cell_type": "code",
   "execution_count": null,
   "id": "6dd3eecf",
   "metadata": {
    "pycharm": {
     "name": "#%%\n"
    }
   },
   "outputs": [
    {
     "name": "stdout",
     "output_type": "stream",
     "text": [
      "2\n",
      "4\n",
      "9\n",
      "2\n",
      "7\n"
     ]
    },
    {
     "data": {
      "image/png": "[encoded data removed]",
      "text/plain": [
       "<Figure size 432x288 with 1 Axes>"
      ]
     },
     "metadata": {
      "needs_background": "light"
     },
     "output_type": "display_data"
    },
    {
     "data": {
      "image/png": "[encoded data removed]",
      "text/plain": [
       "<Figure size 432x288 with 1 Axes>"
      ]
     },
     "metadata": {
      "needs_background": "light"
     },
     "output_type": "display_data"
    },
    {
     "data": {
      "image/png": "[encoded data removed]",
      "text/plain": [
       "<Figure size 432x288 with 1 Axes>"
      ]
     },
     "metadata": {
      "needs_background": "light"
     },
     "output_type": "display_data"
    },
    {
     "data": {
      "image/png": "[encoded data removed]",
      "text/plain": [
       "<Figure size 432x288 with 1 Axes>"
      ]
     },
     "metadata": {
      "needs_background": "light"
     },
     "output_type": "display_data"
    },
    {
     "data": {
      "image/png": "[encoded data removed]",
      "text/plain": [
       "<Figure size 432x288 with 1 Axes>"
      ]
     },
     "metadata": {
      "needs_background": "light"
     },
     "output_type": "display_data"
    },
    {
     "data": {
      "text/plain": [
       "<Figure size 432x288 with 0 Axes>"
      ]
     },
     "metadata": {},
     "output_type": "display_data"
    }
   ],
   "source": [
    "q = int(784**0.5)\n",
    "# print(q)\n",
    "j = 0\n",
    "log_interval = 200\n",
    "for i, image in enumerate(test_images):\n",
    "    j+=1\n",
    "    if j%log_interval == 0:\n",
    "        print(predict[i])\n",
    "        plt.imshow(image.reshape(q, q))\n",
    "        plt.figure()"
   ]
  },
  {
   "cell_type": "code",
   "execution_count": null,
   "id": "2b9eef5d",
   "metadata": {
    "collapsed": false,
    "pycharm": {
     "name": "#%%\n"
    }
   },
   "outputs": [
    {
     "name": "stdout",
     "output_type": "stream",
     "text": [
      "[i 0726 01:20:57.704231 88 lock.py:85] Create lock file:C:\\Users\\YeCanming\\.cache\\jittor\\jt1.3.4\\cl\\py3.10.5\\Windows-10-10.x64\\AMDRyzen74800Hxc9\\jittor.lock\n",
      "[i 0726 01:20:57.709232 88 install_msvc.py:8] Installing MSVC...\n",
      "Downloading https://cg.cs.tsinghua.edu.cn/jittor/assets/msvc.zip to C:\\Users\\YeCanming\\.cache\\jittor\\msvc\\msvc.zip\n"
     ]
    },
    {
     "name": "stderr",
     "output_type": "stream",
     "text": [
      "53.3MB [00:06, 9.07MB/s]                            \n"
     ]
    },
    {
     "name": "stdout",
     "output_type": "stream",
     "text": [
      "[i 0726 01:21:05.894226 88 compiler.py:955] Jittor(1.3.4.17) src: f:\\programs\\python\\lib\\site-packages\\jittor\n",
      "[i 0726 01:21:06.008225 88 compiler.py:956] cl at C:\\Users\\YeCanming\\.cache\\jittor\\msvc\\VC\\_\\_\\_\\_\\_\\bin\\cl.exe(19.29.30133)\n",
      "[i 0726 01:21:06.008225 88 compiler.py:957] cache_path: C:\\Users\\YeCanming\\.cache\\jittor\\jt1.3.4\\cl\\py3.10.5\\Windows-10-10.x64\\AMDRyzen74800Hxc9\\default\n",
      "[i 0726 01:21:06.358855 88 __init__.py:411] Found gdb(7.8.1) at D:\\EnglishStandardPath\\DevelopEnvironment\\MinGW64\\bin\\gdb.EXE.\n",
      "[i 0726 01:21:06.474449 88 __init__.py:411] Found addr2line(2.24.51) at D:\\EnglishStandardPath\\DevelopEnvironment\\MinGW64\\bin\\addr2line.EXE.\n",
      "[i 0726 01:21:06.474449 88 compiler.py:34] Create cache dir: C:\\Users\\YeCanming\\.cache\\jittor\\jt1.3.4\\cl\\py3.10.5\\Windows-10-10.x64\\AMDRyzen74800Hxc9\\default\\jit\n",
      "[i 0726 01:21:06.475447 88 compiler.py:34] Create cache dir: C:\\Users\\YeCanming\\.cache\\jittor\\jt1.3.4\\cl\\py3.10.5\\Windows-10-10.x64\\AMDRyzen74800Hxc9\\default\\obj_files\n",
      "[i 0726 01:21:06.476457 88 compiler.py:34] Create cache dir: C:\\Users\\YeCanming\\.cache\\jittor\\jt1.3.4\\cl\\py3.10.5\\Windows-10-10.x64\\AMDRyzen74800Hxc9\\default\\gen\n",
      "[i 0726 01:21:06.477455 88 compiler.py:34] Create cache dir: C:\\Users\\YeCanming\\.cache\\jittor\\jt1.3.4\\cl\\py3.10.5\\Windows-10-10.x64\\AMDRyzen74800Hxc9\\default\\tmp\n",
      "[i 0726 01:21:06.478453 88 compiler.py:34] Create cache dir: C:\\Users\\YeCanming\\.cache\\jittor\\jt1.3.4\\cl\\py3.10.5\\Windows-10-10.x64\\AMDRyzen74800Hxc9\\default\\checkpoints\n",
      "[i 0726 01:21:06.479456 88 __init__.py:227] Total mem: 15.37GB, using 5 procs for compiling.\n",
      "Compiling jit_utils_core(5/5) used: 6.185s eta: 0.000s\r\n",
      "Compiling jit_utils_core(5/5) used: 2.758s eta: 0.000s\r\n",
      "Compiling jittor_core(146/146) used: 57.166s eta: 0.000s\r\n",
      "Downloading https://cg.cs.tsinghua.edu.cn/jittor/assets/dnnl_win_2.2.0_cpu_vcomp.zip to C:\\Users\\YeCanming\\.cache\\jittor\\mkl\\dnnl_win_2.2.0_cpu_vcomp.zip\n"
     ]
    },
    {
     "name": "stderr",
     "output_type": "stream",
     "text": [
      "6.70MB [00:01, 5.17MB/s]                            \n"
     ]
    },
    {
     "name": "stdout",
     "output_type": "stream",
     "text": [
      "Compiling gen_ops_mkl_conv_backward_w_mkl_conv_backward_x_mk___hashc4699b(7/7) used: 4.428s eta: 0.000s\r\n"
     ]
    }
   ],
   "source": [
    "import jittor as jt\n",
    "from jittor import nn, Module  # 引入相关的模块"
   ]
  },
  {
   "cell_type": "code",
   "execution_count": null,
   "id": "5a40fe8f",
   "metadata": {
    "collapsed": false,
    "pycharm": {
     "name": "#%%\n"
    }
   },
   "outputs": [],
   "source": [
    "class Model (Module):\n",
    "    def __init__ (self):\n",
    "        super (Model, self).__init__()\n",
    "        self.conv1 = nn.Conv (1, 32, 3, 1) # no padding\n",
    "\n",
    "        self.conv2 = nn.Conv (32, 64, 3, 1)\n",
    "        self.bn = nn.BatchNorm(64)\n",
    "\n",
    "        self.max_pool = nn.Pool (2, 2)\n",
    "        self.relu = nn.Relu()\n",
    "        self.fc1 = nn.Linear (64 * 12 * 12, 256)\n",
    "        self.fc2 = nn.Linear (256, 10)\n",
    "    def execute (self, x) :\n",
    "        # it's simliar to forward function in Pytorch\n",
    "        x = self.conv1 (x)\n",
    "        x = self.relu (x)\n",
    "\n",
    "        x = self.conv2 (x)\n",
    "        x = self.bn (x)\n",
    "        x = self.relu (x)\n",
    "\n",
    "        x = self.max_pool (x)\n",
    "        x = jt.reshape (x, [x.shape[0], -1])\n",
    "        x = self.fc1 (x)\n",
    "        x = self.relu(x)\n",
    "        x = self.fc2 (x)\n",
    "        return x\n"
   ]
  }
 ],
 "metadata": {
  "kernelspec": {
   "display_name": "Python 3.9.7",
   "language": "python",
   "name": "python3"
  },
  "language_info": {
   "codemirror_mode": {
    "name": "ipython",
    "version": 3
   },
   "file_extension": ".py",
   "mimetype": "text/x-python",
   "name": "python",
   "nbconvert_exporter": "python",
   "pygments_lexer": "ipython3",
   "version": "3.9.7"
  },
  "vscode": {
   "interpreter": {
    "hash": "c3c5ff18f1e643f86e908cf0b1a131548a27cfe3704142f68d3dec1ed785bf4c"
   }
  }
 },
 "nbformat": 4,
 "nbformat_minor": 5
}
