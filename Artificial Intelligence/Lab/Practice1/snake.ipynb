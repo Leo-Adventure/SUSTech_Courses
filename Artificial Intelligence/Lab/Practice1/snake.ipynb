{
 "cells": [
  {
   "cell_type": "markdown",
   "metadata": {},
   "source": [
    "### Snake: Simulate a snake game and print the game results.\n",
    "\n",
    "You are given a map that ‘x’ represents a rock, ‘-’represents a space, ‘#’represents the body of snake. ‘@’represent the head of the snake and a sequence of actions that ‘0,1,2,3’represent to move to up/down/left/right correspondingly for one step.\n",
    "A greedy snake starts in the map state and moves one step per unit of time according to the sequence of actions until all actions complete or fail. It will fail when the head and the stone overlap, the head goes beyond the boundary, or the head overlaps the body. \n",
    "\n",
    "#### Input\n",
    "A matrix with type char (the map). \n",
    "A sequence with type int (the motions). \n",
    "\n",
    "#### Output\n",
    "the the result of the game:\n",
    "If it failed, output the running time of the game.\n",
    "It it didn’t fail, output the final position of the head (in the form “%d, %d”)."
   ]
  },
  {
   "cell_type": "code",
   "execution_count": null,
   "metadata": {},
   "outputs": [],
   "source": [
    "\"\"\"\n",
    "Example:\n",
    "input:\n",
    "map:\n",
    "---------\n",
    "------x--\n",
    "-x-------\n",
    "---@-----\n",
    "---####--\n",
    "------x--\n",
    "--x----x-\n",
    "-x-------\n",
    "---------\n",
    "action:\n",
    "0 0 3 3 0 3 3 1 1 1 1 1 3 1 1 2 2 2 2 2\n",
    "\n",
    "output:\n",
    "7 3\n",
    "\"\"\""
   ]
  },
  {
   "cell_type": "code",
   "execution_count": 4,
   "metadata": {
    "pycharm": {
     "name": "#%%\n"
    }
   },
   "outputs": [
    {
     "name": "stdout",
     "output_type": "stream",
     "text": [
      "10\n"
     ]
    }
   ],
   "source": [
    "# add your code here\n",
    "from queue import Queue\n",
    "from re import T\n",
    "\n",
    "test_case = 2\n",
    "\n",
    "head_x = 0\n",
    "head_y = 0\n",
    "#10 11 32\n",
    "tail_list = []\n",
    "stone_list = []\n",
    "with open(f'test_cases/{test_case}-map.txt', 'r') as f:\n",
    "    game_map = [list(line.strip()) for line in f.readlines()]\n",
    "\n",
    "border_x = len(game_map)\n",
    "border_y = len(game_map[0])\n",
    "\n",
    "\n",
    "def judge() -> bool:\n",
    "    if head_x < 0 or head_x >= border_x or head_y < 0 or head_y >= border_y:\n",
    "        return True\n",
    "    if (head_x, head_y) in stone_list:\n",
    "        \n",
    "        return True\n",
    "    if (head_x, head_y) in tail_list:\n",
    "        return True\n",
    "    # print(tail_list)\n",
    "    \n",
    "    return False\n",
    "\n",
    "with open(f'./test_cases/{test_case}-actions.txt', 'r') as f:\n",
    "    actions = [*map(int, f.read().split(' '))]\n",
    "\n",
    "for i in range(len(game_map)):\n",
    "    for j in range(len(game_map[0])):\n",
    "        if game_map[i][j] == 'x':\n",
    "            stone_list.append((i, j))\n",
    "        elif game_map[i][j] == '@':\n",
    "            head_x = i\n",
    "            head_y = j\n",
    "        elif game_map[i][j] == '#':\n",
    "            tail_list.append((i, j))\n",
    "\n",
    "dist_map = {}\n",
    "for i in range(len(tail_list)):\n",
    "    dist_map[tail_list[i]] = abs(tail_list[i][0] - head_x) + abs(tail_list[i][1] - head_y)\n",
    "\n",
    "\n",
    "for i in range(len(tail_list)):\n",
    "    for j in range(len(tail_list) - 1):\n",
    "        if dist_map[tail_list[j]] > dist_map[tail_list[j + 1]]:\n",
    "            tmp = tail_list[j]\n",
    "            tail_list[j] = tail_list[j+ 1]\n",
    "            tail_list[j + 1] = tmp\n",
    "\n",
    "flag = True\n",
    "\n",
    "for cnt in range(len(actions)):\n",
    "    action = actions[cnt]\n",
    "    if action == 0: # 向上走\n",
    "        for i in range(len(tail_list) - 1, -1, -1):\n",
    "            if i == 0:\n",
    "                tail_list[i] = (head_x, head_y)\n",
    "            else:\n",
    "                tail_list[i] = tail_list[i - 1]\n",
    "\n",
    "        head_x = head_x - 1\n",
    "        if judge():\n",
    "            print(cnt)\n",
    "            flag = False\n",
    "            break\n",
    "  \n",
    "    elif action == 1: # 向下走\n",
    "        \n",
    "        for i in range(len(tail_list) - 1, -1, -1):\n",
    "            if i == 0:\n",
    "                tail_list[i] = (head_x, head_y)\n",
    "            else:\n",
    "                tail_list[i] = tail_list[i - 1]\n",
    "        head_x = head_x + 1        \n",
    "        if judge():\n",
    "            print(cnt)\n",
    "            flag = False\n",
    "            break\n",
    "    elif action == 2: # 向左走\n",
    "        \n",
    "        for i in range(len(tail_list) - 1, -1, -1):\n",
    "            if i == 0:\n",
    "                tail_list[i] = (head_x, head_y)\n",
    "            else:\n",
    "                tail_list[i] = tail_list[i - 1]\n",
    "        head_y = head_y - 1       \n",
    "        if judge():\n",
    "            print(cnt)\n",
    "            flag = False\n",
    "            break\n",
    "    else: # 向右走\n",
    "        \n",
    "        for i in range(len(tail_list) - 1, -1, -1):\n",
    "            if i == 0:\n",
    "                tail_list[i] = (head_x, head_y)\n",
    "            else:\n",
    "                tail_list[i] = tail_list[i - 1]    \n",
    "        head_y = head_y + 1\n",
    "        if judge():\n",
    "            print(cnt)\n",
    "            flag = False\n",
    "            break\n",
    "if flag:\n",
    "\n",
    "    print('%d %d' % (head_x, head_y))\n",
    "\n"
   ]
  },
  {
   "cell_type": "code",
   "execution_count": 2,
   "metadata": {
    "pycharm": {
     "name": "#%%\n"
    }
   },
   "outputs": [
    {
     "name": "stdout",
     "output_type": "stream",
     "text": [
      "[['-', '-', '-', '-', '-', '-', '-', '-', '-', '-', '-', '-', '-'], ['-', '-', '-', '-', '-', '-', 'x', '-', '-', '-', '-', '-', '-'], ['-', 'x', '-', '-', '-', '-', '-', '-', '-', '-', '-', '-', '-'], ['-', '-', '-', '@', '-', '-', '-', '-', '-', '-', 'x', '-', '-'], ['-', '-', '-', '#', '#', '#', '-', '-', '-', '-', 'x', '-', '-'], ['-', '-', '-', '-', '-', '#', '-', '-', '-', '-', 'x', '-', '-'], ['-', '-', 'x', '-', '-', '#', '-', '-', '-', '-', '-', '-', '-'], ['-', '-', '-', '#', '#', '#', '-', '-', '-', '-', '-', '-', '-'], ['-', '-', '-', '-', '-', '-', '-', '-', 'x', 'x', '-', '-', '-'], ['-', '-', '-', '-', '-', '-', '-', '-', '-', '-', '-', '-', '-']]\n",
      "[0, 3, 3, 3, 3, 1, 1, 1, 2, 2, 2, 1, 1, 3, 3, 3, 3, 3, 3, 1, 1, 2, 2, 2, 2, 0, 0, 0, 3, 3, 1, 2, 2, 2, 2, 0, 0, 0]\n"
     ]
    }
   ],
   "source": [
    "# test block, you may need to modify this block.\n",
    "test_case = 4\n",
    "with open(f'test_cases/{test_case}-map.txt', 'r') as f:\n",
    "    game_map = [list(line.strip()) for line in f.readlines()]\n",
    "print(game_map)\n",
    "with open(f'./test_cases/{test_case}-actions.txt', 'r') as f:\n",
    "    actions = [*map(int, f.read().split(' '))]\n",
    "print(actions)"
   ]
  }
 ],
 "metadata": {
  "kernelspec": {
   "display_name": "Python 3.9.7",
   "language": "python",
   "name": "python3"
  },
  "language_info": {
   "codemirror_mode": {
    "name": "ipython",
    "version": 3
   },
   "file_extension": ".py",
   "mimetype": "text/x-python",
   "name": "python",
   "nbconvert_exporter": "python",
   "pygments_lexer": "ipython3",
   "version": "3.9.7"
  },
  "vscode": {
   "interpreter": {
    "hash": "c3c5ff18f1e643f86e908cf0b1a131548a27cfe3704142f68d3dec1ed785bf4c"
   }
  }
 },
 "nbformat": 4,
 "nbformat_minor": 1
}
