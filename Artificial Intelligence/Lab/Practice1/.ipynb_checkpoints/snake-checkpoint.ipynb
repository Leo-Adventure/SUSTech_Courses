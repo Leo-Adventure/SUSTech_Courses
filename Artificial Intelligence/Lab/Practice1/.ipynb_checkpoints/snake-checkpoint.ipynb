{
 "cells": [
  {
   "cell_type": "markdown",
   "metadata": {},
   "source": [
    "### Snake: Simulate a snake game and print the game results.\n",
    "\n",
    "You are given a map that ‘x’ represents a rock, ‘-’represents a space, ‘#’represents the body of snake. ‘@’represent the head of the snake and a sequence of actions that ‘0,1,2,3’represent to move to up/down/left/right correspondingly for one step.\n",
    "A greedy snake starts in the map state and moves one step per unit of time according to the sequence of actions until all actions complete or fail. It will fail when the head and the stone overlap, the head goes beyond the boundary, or the head overlaps the body. \n",
    "\n",
    "#### Input\n",
    "A matrix with type char (the map). \n",
    "A sequence with type int (the motions). \n",
    "\n",
    "#### Output\n",
    "the the result of the game:\n",
    "If it failed, output the running time of the game.\n",
    "It it didn’t fail, output the final position of the head (in the form “%d, %d”)."
   ]
  },
  {
   "cell_type": "code",
   "execution_count": null,
   "metadata": {},
   "outputs": [],
   "source": [
    "\"\"\"\n",
    "Example:\n",
    "input:\n",
    "map:\n",
    "---------\n",
    "------x--\n",
    "-x-------\n",
    "---@-----\n",
    "---##----\n",
    "------x--\n",
    "--x----x-\n",
    "-x-------\n",
    "---------\n",
    "action:\n",
    "0 0 3 3 0 3 3 1 1 1 1 1 3 1 1 2 2 2 2 2\n",
    "\n",
    "output:\n",
    "7 3\n",
    "\"\"\""
   ]
  },
  {
   "cell_type": "code",
   "execution_count": null,
   "metadata": {
    "pycharm": {
     "name": "#%%\n"
    }
   },
   "outputs": [],
   "source": [
    "# add your code here\n",
    "\n"
   ]
  },
  {
   "cell_type": "code",
   "execution_count": null,
   "metadata": {
    "pycharm": {
     "name": "#%%\n"
    }
   },
   "outputs": [],
   "source": [
    "# test block, you may need to modify this block.\n",
    "test_case = 4\n",
    "with open(f'test_cases/{test_case}-map.txt', 'r') as f:\n",
    "    game_map = [list(line.strip()) for line in f.readlines()]\n",
    "print(game_map)\n",
    "with open(f'./test_cases/{test_case}-actions.txt', 'r') as f:\n",
    "    actions = [*map(int, f.read().split(' '))]\n",
    "print(actions)"
   ]
  }
 ],
 "metadata": {
  "interpreter": {
   "hash": "6eea70d608ba4e65e3b5d32ac8522b4d78d39b471a2766e116e1911c1dde4fb7"
  },
  "kernelspec": {
   "display_name": "Python 3 (ipykernel)",
   "language": "python",
   "name": "python3"
  },
  "language_info": {
   "codemirror_mode": {
    "name": "ipython",
    "version": 3
   },
   "file_extension": ".py",
   "mimetype": "text/x-python",
   "name": "python",
   "nbconvert_exporter": "python",
   "pygments_lexer": "ipython3",
   "version": "3.9.12"
  }
 },
 "nbformat": 4,
 "nbformat_minor": 1
}
