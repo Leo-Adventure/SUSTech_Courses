{
 "cells": [
  {
   "cell_type": "markdown",
   "metadata": {},
   "source": [
    "### Snake: Simulate a snake game and print the game results.\n",
    "\n",
    "You are given a map that ‘x’ represents a rock, ‘-’represents a space, ‘#’represents the body of snake. ‘@’represent the head of the snake and a sequence of actions that ‘0,1,2,3’represent to move to up/down/left/right correspondingly for one step.\n",
    "A greedy snake starts in the map state and moves one step per unit of time according to the sequence of actions until all actions complete or fail. It will fail when the head and the stone overlap, the head goes beyond the boundary, or the head overlaps the body. \n",
    "\n",
    "#### Input\n",
    "A matrix with type char (the map). \n",
    "A sequence with type int (the motions). \n",
    "\n",
    "#### Output\n",
    "the the result of the game:\n",
    "If it failed, output the running time of the game.\n",
    "It it didn’t fail, output the final position of the head (in the form “%d, %d”)."
   ]
  },
  {
   "cell_type": "code",
   "execution_count": 1,
   "metadata": {},
   "outputs": [
    {
     "data": {
      "text/plain": [
       "'\\nExample:\\ninput:\\nmap:\\n---------\\n------x--\\n-x-------\\n---@-----\\n---##----\\n------x--\\n--x----x-\\n-x-------\\n---------\\naction:\\n0 0 3 3 0 3 3 1 1 1 1 1 3 1 1 2 2 2 2 2\\n\\noutput:\\n7 3\\n'"
      ]
     },
     "execution_count": 1,
     "metadata": {},
     "output_type": "execute_result"
    }
   ],
   "source": [
    "\"\"\"\n",
    "Example:\n",
    "input:\n",
    "map:\n",
    "---------\n",
    "------x--\n",
    "-x-------\n",
    "---@-----\n",
    "---##----\n",
    "------x--\n",
    "--x----x-\n",
    "-x-------\n",
    "---------\n",
    "action:\n",
    "0 0 3 3 0 3 3 1 1 1 1 1 3 1 1 2 2 2 2 2\n",
    "\n",
    "output:\n",
    "7 3\n",
    "\"\"\""
   ]
  },
  {
   "cell_type": "code",
   "execution_count": 4,
   "metadata": {
    "pycharm": {
     "name": "#%%\n"
    }
   },
   "outputs": [],
   "source": [
    "# add your code here\n",
    "from itertools import product\n",
    "import numpy as np\n",
    "\n",
    "\n",
    "class Snake:    # 🐍\n",
    "    dire_bias = (\n",
    "        np.array([-1, 0]), np.array([1, 0]),\n",
    "        np.array([0, -1]), np.array([0, 1])\n",
    "    )\n",
    "    reverse_dire = (1, 0, 3, 2)\n",
    "\n",
    "    def __init__(self, game_map):\n",
    "        self.dead = False\n",
    "        self.head_pos = np.array([0, 0])\n",
    "        self.tail_pos = np.array([0, 0])\n",
    "        self.dire_queue = []\n",
    "        self.__find_head(game_map)\n",
    "        self.__init_body(game_map)\n",
    "\n",
    "    def __find_head(self, game_map):\n",
    "        h, w = len(game_map), len(game_map[0])\n",
    "        for i, j in product(range(h), range(w)):\n",
    "            if game_map[i][j] == '@':\n",
    "                self.head_pos = np.array([i, j])\n",
    "                game_map[i][j] = '#'\n",
    "                break\n",
    "\n",
    "    def __init_body(self, game_map):\n",
    "        h, w = len(game_map), len(game_map[0])\n",
    "        position = self.head_pos\n",
    "        visit = [[False] * w for _ in range(h)]\n",
    "        while True:\n",
    "            visit[position[0]][position[1]] = True\n",
    "            find_next = False\n",
    "            for dire in range(4):\n",
    "                next_pos = position + Snake.dire_bias[dire]\n",
    "                i, j = next_pos\n",
    "                if visit[i][j] or not (0 <= i < h and 0 <= j < w):\n",
    "                    continue\n",
    "                if game_map[i][j] == '#':\n",
    "                    self.dire_queue.append(Snake.reverse_dire[dire])\n",
    "                    position = next_pos\n",
    "                    find_next = True\n",
    "                    break\n",
    "            if not find_next:\n",
    "                self.tail_pos = position\n",
    "                break\n",
    "\n",
    "    def update(self, game_map, direction):\n",
    "        h, w = len(game_map), len(game_map[0])\n",
    "        bias = Snake.dire_bias[direction]\n",
    "        next_pos = self.head_pos + bias\n",
    "        if 0 <= next_pos[0] < h and 0 <= next_pos[1] < w:\n",
    "            i, j = next_pos\n",
    "            if game_map[i][j] == '-':\n",
    "                # next position is empty\n",
    "                game_map[i][j] = '#'\n",
    "                i, j = self.tail_pos\n",
    "                game_map[i][j] = '-'\n",
    "                tail_bias = Snake.dire_bias[self.dire_queue[-1]]\n",
    "                self.head_pos = next_pos\n",
    "                self.tail_pos = self.tail_pos + tail_bias\n",
    "                self.dire_queue.insert(0, direction)\n",
    "                self.dire_queue.pop()\n",
    "                return ''\n",
    "        return 'dead'\n",
    "\n",
    "\n",
    "class GameWorld:\n",
    "    def __init__(self, file_path):\n",
    "        \"\"\" Object Type Table:\n",
    "            -: empty\n",
    "            #: snake body\n",
    "            @: snake head\n",
    "        \"\"\"\n",
    "        self.game_map = None\n",
    "        self.__load_map(file_path)\n",
    "        self.snake = Snake(self.game_map)\n",
    "        self.bean_countdown = 0\n",
    "        self.stone_countdown = 0\n",
    "        self.bean_pos = [0, 0]\n",
    "        self.stone_num = 0\n",
    "        self.finish = False\n",
    "\n",
    "    def update(self, direction):\n",
    "        res = self.snake.update(self.game_map, direction)\n",
    "        if res == 'dead':\n",
    "            self.finish = True\n",
    "\n",
    "    def __load_map(self, file_path):\n",
    "        with open(file_path, 'r') as f:\n",
    "            self.game_map = [list(line.strip()) for line in f.readlines()]\n",
    "\n",
    "    # def display(self):\n",
    "    #     if self.finish:\n",
    "    #         print('game over')\n",
    "    #         return\n",
    "    #     for item in self.game_map:\n",
    "    #         print(''.join(item))"
   ]
  },
  {
   "cell_type": "code",
   "execution_count": 7,
   "metadata": {
    "pycharm": {
     "name": "#%%\n"
    }
   },
   "outputs": [
    {
     "ename": "FileNotFoundError",
     "evalue": "[Errno 2] No such file or directory: 'test_cases/4-map.txt'",
     "output_type": "error",
     "traceback": [
      "\u001b[1;31m---------------------------------------------------------------------------\u001b[0m",
      "\u001b[1;31mFileNotFoundError\u001b[0m                         Traceback (most recent call last)",
      "\u001b[1;32m~\\AppData\\Local\\Temp/ipykernel_20232/4207259317.py\u001b[0m in \u001b[0;36m<module>\u001b[1;34m\u001b[0m\n\u001b[0;32m      1\u001b[0m \u001b[0mtest_case\u001b[0m \u001b[1;33m=\u001b[0m \u001b[1;36m4\u001b[0m\u001b[1;33m\u001b[0m\u001b[1;33m\u001b[0m\u001b[0m\n\u001b[0;32m      2\u001b[0m \u001b[1;33m\u001b[0m\u001b[0m\n\u001b[1;32m----> 3\u001b[1;33m \u001b[0mworld\u001b[0m \u001b[1;33m=\u001b[0m \u001b[0mGameWorld\u001b[0m\u001b[1;33m(\u001b[0m\u001b[1;34mf'test_cases/{test_case}-map.txt'\u001b[0m\u001b[1;33m)\u001b[0m\u001b[1;33m\u001b[0m\u001b[1;33m\u001b[0m\u001b[0m\n\u001b[0m\u001b[0;32m      4\u001b[0m \u001b[1;31m# world.display()\u001b[0m\u001b[1;33m\u001b[0m\u001b[1;33m\u001b[0m\u001b[0m\n\u001b[0;32m      5\u001b[0m \u001b[1;32mwith\u001b[0m \u001b[0mopen\u001b[0m\u001b[1;33m(\u001b[0m\u001b[1;34mf'./test_cases/{test_case}-actions.txt'\u001b[0m\u001b[1;33m,\u001b[0m \u001b[1;34m'r'\u001b[0m\u001b[1;33m)\u001b[0m \u001b[1;32mas\u001b[0m \u001b[0mf\u001b[0m\u001b[1;33m:\u001b[0m\u001b[1;33m\u001b[0m\u001b[1;33m\u001b[0m\u001b[0m\n",
      "\u001b[1;32m~\\AppData\\Local\\Temp/ipykernel_20232/3588306769.py\u001b[0m in \u001b[0;36m__init__\u001b[1;34m(self, file_path)\u001b[0m\n\u001b[0;32m     76\u001b[0m         \"\"\"\n\u001b[0;32m     77\u001b[0m         \u001b[0mself\u001b[0m\u001b[1;33m.\u001b[0m\u001b[0mgame_map\u001b[0m \u001b[1;33m=\u001b[0m \u001b[1;32mNone\u001b[0m\u001b[1;33m\u001b[0m\u001b[1;33m\u001b[0m\u001b[0m\n\u001b[1;32m---> 78\u001b[1;33m         \u001b[0mself\u001b[0m\u001b[1;33m.\u001b[0m\u001b[0m__load_map\u001b[0m\u001b[1;33m(\u001b[0m\u001b[0mfile_path\u001b[0m\u001b[1;33m)\u001b[0m\u001b[1;33m\u001b[0m\u001b[1;33m\u001b[0m\u001b[0m\n\u001b[0m\u001b[0;32m     79\u001b[0m         \u001b[0mself\u001b[0m\u001b[1;33m.\u001b[0m\u001b[0msnake\u001b[0m \u001b[1;33m=\u001b[0m \u001b[0mSnake\u001b[0m\u001b[1;33m(\u001b[0m\u001b[0mself\u001b[0m\u001b[1;33m.\u001b[0m\u001b[0mgame_map\u001b[0m\u001b[1;33m)\u001b[0m\u001b[1;33m\u001b[0m\u001b[1;33m\u001b[0m\u001b[0m\n\u001b[0;32m     80\u001b[0m         \u001b[0mself\u001b[0m\u001b[1;33m.\u001b[0m\u001b[0mbean_countdown\u001b[0m \u001b[1;33m=\u001b[0m \u001b[1;36m0\u001b[0m\u001b[1;33m\u001b[0m\u001b[1;33m\u001b[0m\u001b[0m\n",
      "\u001b[1;32m~\\AppData\\Local\\Temp/ipykernel_20232/3588306769.py\u001b[0m in \u001b[0;36m__load_map\u001b[1;34m(self, file_path)\u001b[0m\n\u001b[0;32m     90\u001b[0m \u001b[1;33m\u001b[0m\u001b[0m\n\u001b[0;32m     91\u001b[0m     \u001b[1;32mdef\u001b[0m \u001b[0m__load_map\u001b[0m\u001b[1;33m(\u001b[0m\u001b[0mself\u001b[0m\u001b[1;33m,\u001b[0m \u001b[0mfile_path\u001b[0m\u001b[1;33m)\u001b[0m\u001b[1;33m:\u001b[0m\u001b[1;33m\u001b[0m\u001b[1;33m\u001b[0m\u001b[0m\n\u001b[1;32m---> 92\u001b[1;33m         \u001b[1;32mwith\u001b[0m \u001b[0mopen\u001b[0m\u001b[1;33m(\u001b[0m\u001b[0mfile_path\u001b[0m\u001b[1;33m,\u001b[0m \u001b[1;34m'r'\u001b[0m\u001b[1;33m)\u001b[0m \u001b[1;32mas\u001b[0m \u001b[0mf\u001b[0m\u001b[1;33m:\u001b[0m\u001b[1;33m\u001b[0m\u001b[1;33m\u001b[0m\u001b[0m\n\u001b[0m\u001b[0;32m     93\u001b[0m             \u001b[0mself\u001b[0m\u001b[1;33m.\u001b[0m\u001b[0mgame_map\u001b[0m \u001b[1;33m=\u001b[0m \u001b[1;33m[\u001b[0m\u001b[0mlist\u001b[0m\u001b[1;33m(\u001b[0m\u001b[0mline\u001b[0m\u001b[1;33m.\u001b[0m\u001b[0mstrip\u001b[0m\u001b[1;33m(\u001b[0m\u001b[1;33m)\u001b[0m\u001b[1;33m)\u001b[0m \u001b[1;32mfor\u001b[0m \u001b[0mline\u001b[0m \u001b[1;32min\u001b[0m \u001b[0mf\u001b[0m\u001b[1;33m.\u001b[0m\u001b[0mreadlines\u001b[0m\u001b[1;33m(\u001b[0m\u001b[1;33m)\u001b[0m\u001b[1;33m]\u001b[0m\u001b[1;33m\u001b[0m\u001b[1;33m\u001b[0m\u001b[0m\n\u001b[0;32m     94\u001b[0m \u001b[1;33m\u001b[0m\u001b[0m\n",
      "\u001b[1;31mFileNotFoundError\u001b[0m: [Errno 2] No such file or directory: 'test_cases/4-map.txt'"
     ]
    }
   ],
   "source": [
    "test_case = 4\n",
    "\n",
    "world = GameWorld(f'test_cases/{test_case}-map.txt')\n",
    "# world.display()\n",
    "with open(f'./test_cases/{test_case}-actions.txt', 'r') as f:\n",
    "    actions = [*map(int, f.read().split(' '))]\n",
    "cnt = 0\n",
    "for a in actions:\n",
    "    world.update(a)\n",
    "    # world.display()\n",
    "    if world.finish:\n",
    "        print(cnt)\n",
    "        break\n",
    "    cnt += 1\n",
    "    \n",
    "if not world.finish:\n",
    "    print(world.snake.head_pos)"
   ]
  }
 ],
 "metadata": {
  "kernelspec": {
   "display_name": "Python 3.9.7",
   "language": "python",
   "name": "python3"
  },
  "language_info": {
   "codemirror_mode": {
    "name": "ipython",
    "version": 3
   },
   "file_extension": ".py",
   "mimetype": "text/x-python",
   "name": "python",
   "nbconvert_exporter": "python",
   "pygments_lexer": "ipython3",
   "version": "3.9.7"
  },
  "vscode": {
   "interpreter": {
    "hash": "c3c5ff18f1e643f86e908cf0b1a131548a27cfe3704142f68d3dec1ed785bf4c"
   }
  }
 },
 "nbformat": 4,
 "nbformat_minor": 1
}
