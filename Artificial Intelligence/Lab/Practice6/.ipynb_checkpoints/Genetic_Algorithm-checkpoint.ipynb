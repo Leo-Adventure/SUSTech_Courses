{
 "cells": [
  {
   "cell_type": "code",
   "execution_count": null,
   "metadata": {
    "pycharm": {
     "name": "#%%\n"
    }
   },
   "outputs": [],
   "source": [
    "%load_ext autoreload\n",
    "%autoreload 2\n",
    "import random\n",
    "import numpy as np\n",
    "import matplotlib.pyplot as plt\n",
    "from utils import plot_NQueens, plot_evolution"
   ]
  },
  {
   "cell_type": "markdown",
   "metadata": {
    "pycharm": {
     "name": "#%% md\n"
    }
   },
   "source": [
    "# Local Search: Genetic Algorithm\n",
    "\n",
    "## 1.Genrating Phrases\n",
    "\n",
    "In this section we consider a toy problem: generating a target phrases (e.g. \"genetic algorithm\") from an initial polupation of random strings. Assume the length of the target is known.\n",
    "\n",
    "Problem Formulation: \n",
    "\n",
    "1. Direct Representation: just strings.\n",
    "2. Exponential Search Space: $m^l$ where $m$ is the size of the alphabet (set of characters in our interest) and $l$ is the length of the string.\n",
    "\n",
    "Now that we want to solve it with GA:\n",
    "1. Chromesome: directly use the string itself.\n",
    "2. Fitness: how match/close an individual is to the target.\n",
    "3. Mating: combine two strings in someway to generate a new one.\n",
    "\n",
    "The following cells will walk you through this problem to show the basic idea of GA"
   ]
  },
  {
   "cell_type": "code",
   "execution_count": null,
   "metadata": {
    "pycharm": {
     "name": "#%%\n"
    }
   },
   "outputs": [],
   "source": [
    "# setting up the problem\n",
    "target = 'Genetic Algorithm'\n",
    "u_case = [chr(x) for x in range(65, 91)]\n",
    "l_case = [chr(x) for x in range(97, 123)]\n",
    "gene_pool = u_case + l_case + [' '] # all English chracters and white space\n",
    "\n",
    "def init_population(pop_size, gene_pool, state_length):\n",
    "    \"\"\"\n",
    "    Randomly initialize a population for genetic algorithm\n",
    "        pop_size  :  Number of individuals in population\n",
    "        gene_pool   :  List of possible values for individuals\n",
    "        state_length:  The length of each individual\n",
    "    \"\"\"\n",
    "\n",
    "    population = []\n",
    "    for _ in range(pop_size):\n",
    "        new_individual = \"\".join(random.choices(gene_pool, k=state_length))\n",
    "        population.append(new_individual)\n",
    "\n",
    "    return population\n",
    "\n",
    "# test\n",
    "init_pop = init_population(10, gene_pool, len(target))\n",
    "init_pop"
   ]
  },
  {
   "cell_type": "code",
   "execution_count": null,
   "metadata": {
    "pycharm": {
     "name": "#%%\n"
    }
   },
   "outputs": [],
   "source": [
    "def fitness_fn(sample):\n",
    "    # TODO: evaluate how close *sample* is to the target\n",
    "    raise NotImplementedError()\n",
    "\n",
    "# test\n",
    "fitness_fn(init_pop[0])"
   ]
  },
  {
   "cell_type": "code",
   "execution_count": null,
   "metadata": {
    "pycharm": {
     "name": "#%%\n"
    }
   },
   "outputs": [],
   "source": [
    "def select(r, population, fitness_fn):\n",
    "    \"\"\"\n",
    "    TODO: select *r* samples from *population*\n",
    "    the simplest choice is to sample from *population* with each individual weighted by its fitness\n",
    "    \"\"\"\n",
    "    raise NotImplementedError()\n",
    "\n",
    "# test\n",
    "parents = select(2, init_pop, fitness_fn)\n",
    "parents"
   ]
  },
  {
   "cell_type": "code",
   "execution_count": null,
   "metadata": {
    "pycharm": {
     "name": "#%%\n"
    }
   },
   "outputs": [],
   "source": [
    "def recombine(x, y):\n",
    "    \"\"\"\n",
    "    TODO: combine two parents to produce an offspring\n",
    "    \"\"\"\n",
    "    raise NotImplementedError()\n",
    "\n",
    "def mutate(x, gene_pool, pmut):\n",
    "    \"\"\"\n",
    "    apply mutation to *x* by randomly replacing one of its gene from *gene_pool*\n",
    "    \"\"\"\n",
    "    if random.uniform(0, 1) >= pmut:\n",
    "        return x\n",
    "\n",
    "    n = len(x)\n",
    "    g = len(gene_pool)\n",
    "    c = random.randrange(0, n)\n",
    "    r = random.randrange(0, g)\n",
    "\n",
    "    new_gene = gene_pool[r]\n",
    "    return x[:c] + new_gene + x[c + 1:]\n",
    "\n",
    "# test\n",
    "child = mutate(recombine(*parents), gene_pool, 0.1)\n",
    "child"
   ]
  },
  {
   "cell_type": "code",
   "execution_count": null,
   "metadata": {
    "pycharm": {
     "name": "#%%\n"
    }
   },
   "outputs": [],
   "source": [
    "# now refactor things into a *Problem* abstraction\n",
    "# you can directly reuse what you have implemented above\n",
    "from abc import ABC, abstractmethod\n",
    "\n",
    "class GAProblem(ABC):\n",
    "    @abstractmethod\n",
    "    def init_population(self, pop_size): pass\n",
    "\n",
    "    @abstractmethod\n",
    "    def fitness(self, sample): pass\n",
    "\n",
    "    @abstractmethod\n",
    "    def reproduce(self, population): pass\n",
    "\n",
    "    @abstractmethod\n",
    "    def replacement(self, old, new): pass\n",
    "\n",
    "class PhraseGeneration(GAProblem):\n",
    "    def __init__(self, target, alphabet):\n",
    "        self.target = target\n",
    "        self.alphabet = alphabet\n",
    "\n",
    "    def init_population(self, pop_size):\n",
    "        # raise NotImplementedError()\n",
    "        return init_population(pop_size, self.alphabet, len(self.target))\n",
    "\n",
    "    def fitness(self, sample):\n",
    "        # TODO: evaluate how close *sample* is to the target\n",
    "        raise NotImplementedError()\n",
    "    \n",
    "    def reproduce(self, population, mutation_rate):\n",
    "        \"\"\"\n",
    "        TODO: generate the next generation of population\n",
    "\n",
    "        hint: make a new individual with \n",
    "        \n",
    "        mutate(recombine(*select(2, population, fitness_fn)), gene_pool, pmut)\n",
    "\n",
    "        \"\"\"\n",
    "        raise NotImplementedError()\n",
    "    \n",
    "    def replacement(self, old, new):\n",
    "        \"\"\"\n",
    "        you can use your own strategy, for example retain some solutions from the old population\n",
    "        \"\"\"\n",
    "        return new\n",
    "\n",
    "def genetic_algorithm(\n",
    "        problem: GAProblem, \n",
    "        ngen, n_init_size, mutation_rate, \n",
    "        log_intervel=100\n",
    "    ):\n",
    "\n",
    "    population = problem.init_population(n_init_size)\n",
    "    best = max(population, key=problem.fitness)\n",
    "    history = [(0, list(map(problem.fitness, population)))]\n",
    "\n",
    "    for gen in range(ngen):\n",
    "        next_gen    = problem.reproduce(population, mutation_rate)\n",
    "        population  = problem.replacement(population, next_gen)\n",
    "\n",
    "        if gen % log_intervel == 0:\n",
    "            current_best = max(population, key=problem.fitness)\n",
    "            if problem.fitness(current_best) > problem.fitness(best): best = current_best\n",
    "            print(f\"Generation: {gen}/{ngen},\\tBest: {best},\\tFitness={problem.fitness(best)}\")         \n",
    "            history.append((gen, list(map(problem.fitness, population))))\n",
    "    \n",
    "    history.append((ngen-1, list(map(problem.fitness, population))))\n",
    "    return best, history"
   ]
  },
  {
   "cell_type": "code",
   "execution_count": null,
   "metadata": {
    "pycharm": {
     "name": "#%%\n"
    }
   },
   "outputs": [],
   "source": [
    "# now set up the parameters\n",
    "ngen = 1200\n",
    "max_population = 120\n",
    "mutation_rate = 0.08\n",
    "\n",
    "sid = 11810424 # replace this with your own sid\n",
    "target = f\"Genetic Algorithm by {sid}\" \n",
    "alphabet = None # TODO: fix this: what is the search space now?\n",
    "\n",
    "problem = PhraseGeneration(target, alphabet)\n",
    "\n",
    "# and run it\n",
    "solution, history = genetic_algorithm(problem, ngen, max_population, mutation_rate)\n",
    "solution"
   ]
  },
  {
   "cell_type": "code",
   "execution_count": null,
   "metadata": {
    "pycharm": {
     "name": "#%%\n"
    }
   },
   "outputs": [],
   "source": [
    "# visualize the evolution of the polulation\n",
    "bins = np.linspace(0, problem.max_fitness, problem.max_fitness)\n",
    "plot_evolution(history, bins)"
   ]
  },
  {
   "cell_type": "markdown",
   "metadata": {
    "pycharm": {
     "name": "#%% md\n"
    }
   },
   "source": [
    "## 2. N-Queens Problem\n",
    "\n",
    "It is possible to solve the N-Queens problem with slight modifications.\n",
    "\n",
    "For the problem:\n",
    "\n",
    "1. Direct Representation: placement of queens.\n",
    "2. Search Space: $n^n$, if we don't use any constraints.\n",
    "\n",
    "To use GA:\n",
    "\n",
    "Actually a new fitness function is the minimum modification you need for this problem.\n",
    "\n",
    "Others are alomost the same as the previous problem."
   ]
  },
  {
   "cell_type": "code",
   "execution_count": null,
   "metadata": {
    "pycharm": {
     "name": "#%%\n"
    }
   },
   "outputs": [],
   "source": [
    "class NQueensProblem(GAProblem):\n",
    "    def __init__(self, n):\n",
    "        self.n = n\n",
    "        self.max_fitness =  n*(n-1)//2 # max number if non-attacking pairs\n",
    "\n",
    "    def init_population(self, pop_size):\n",
    "        raise NotImplementedError()\n",
    "    \n",
    "    def fitness(self, queens):\n",
    "        \"\"\"\n",
    "        TODO\n",
    "\n",
    "        hint: count the non-attacking pairs\n",
    "        \"\"\"\n",
    "        raise NotImplementedError()\n",
    "\n",
    "    def reproduce(self, population, mutation_rate):\n",
    "        raise NotImplementedError()\n",
    "\n",
    "    def replacement(self, old, new):\n",
    "        return new\n",
    "\n",
    "    def __repr__(self):\n",
    "        return f\"{self.n}-Queens Problem\""
   ]
  },
  {
   "cell_type": "code",
   "execution_count": null,
   "metadata": {
    "pycharm": {
     "name": "#%%\n"
    }
   },
   "outputs": [],
   "source": [
    "from utils import plot_NQueens\n",
    "ngen = 1000\n",
    "init_size = 120\n",
    "mutation_rate = 0.08\n",
    "\n",
    "n = 8\n",
    "problem = NQueensProblem(n)\n",
    "solution, history = genetic_algorithm(problem, ngen, init_size, mutation_rate)"
   ]
  },
  {
   "cell_type": "code",
   "execution_count": null,
   "metadata": {
    "pycharm": {
     "name": "#%%\n"
    }
   },
   "outputs": [],
   "source": [
    "# example of how to use this function\n",
    "# replace the parameter with your own results\n",
    "plot_NQueens([4, 2, 0, 6, 1, 7, 5, 3])\n",
    "# plot_NQueens(solution)"
   ]
  },
  {
   "cell_type": "code",
   "execution_count": null,
   "metadata": {
    "pycharm": {
     "name": "#%%\n"
    }
   },
   "outputs": [],
   "source": [
    "# visualize the evolution of the polulation\n",
    "bins = np.linspace(0, problem.max_fitness, problem.max_fitness)\n",
    "plot_evolution(history, bins)"
   ]
  },
  {
   "cell_type": "markdown",
   "metadata": {
    "pycharm": {
     "name": "#%% md\n"
    }
   },
   "source": [
    "## 2.1 Solving N-queen problem with min-conflict algorithm\n",
    "### min-conflict algorithm\n",
    "\n",
    "* First generate a complete assignment for all variables (this set of assignments may conflict)\n",
    "\n",
    "* Repeat the following steps until there are no conflicts:\n",
    "\n",
    "    * Randomly Select a variable that causes conflicts\n",
    "    \n",
    "    * Reassign the value of this variable to another value that with the least constraint onflicts with other variables\n",
    "    \n",
    "you need to complete the task in **Min_conflict.ipynb**  "
   ]
  },
  {
   "cell_type": "markdown",
   "metadata": {
    "pycharm": {
     "name": "#%% md\n"
    }
   },
   "source": [
    "## 3. TSP Problem\n",
    "\n",
    "For the problem:\n",
    "\n",
    "1. Representation: path permutation, e.g. (a->b->c->...->z->a)\n",
    "2. Factorial Search Space: $n!$ where $n$ is the number of cities\n",
    "\n",
    "For GA/EA:\n",
    "\n",
    "1. How to do cross-over on paths?\n",
    "3. How to apply mutation?"
   ]
  },
  {
   "cell_type": "code",
   "execution_count": null,
   "metadata": {
    "pycharm": {
     "name": "#%%\n"
    }
   },
   "outputs": [],
   "source": [
    "class TSP(GAProblem):\n",
    "    def __init__(self, cities):\n",
    "        self.cities = cities\n",
    "        self.n_cities = len(cities)\n",
    "    \n",
    "    def init_population(self, pop_size):\n",
    "        pop = [] \n",
    "        for _ in range(pop_size):\n",
    "            pop.append(np.random.permutation(range(self.n_cities)).tolist())\n",
    "        return pop\n",
    "    \n",
    "    def fitness(self, path):\n",
    "        cities = self.cities[path]\n",
    "        cost = np.sum(np.linalg.norm(cities - np.roll(cities, 1, axis=0), axis=1))\n",
    "        return 1 / cost\n",
    "    \n",
    "    def reproduce(self, population, mutation_rate):\n",
    "        raise NotImplementedError()\n",
    "\n",
    "    def replacement(self, old, new):\n",
    "        return new\n",
    "\n",
    "rng = np.random.default_rng(303)\n",
    "cities = rng.random((16, 2))\n",
    "\n",
    "problem = TSP(cities)"
   ]
  }
 ],
 "metadata": {
  "interpreter": {
   "hash": "fb94abd67aa002aa187ead1d4120a8ec4bfee3e4c9494aaf1e01cee1e01ca26c"
  },
  "kernelspec": {
   "display_name": "Python 3 (ipykernel)",
   "language": "python",
   "name": "python3"
  },
  "language_info": {
   "codemirror_mode": {
    "name": "ipython",
    "version": 3
   },
   "file_extension": ".py",
   "mimetype": "text/x-python",
   "name": "python",
   "nbconvert_exporter": "python",
   "pygments_lexer": "ipython3",
   "version": "3.9.12"
  }
 },
 "nbformat": 4,
 "nbformat_minor": 2
}
